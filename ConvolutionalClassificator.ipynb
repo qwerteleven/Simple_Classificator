{
 "cells": [
  {
   "cell_type": "code",
   "execution_count": 1,
   "metadata": {},
   "outputs": [],
   "source": [
    "import tensorflow as tf\n",
    "from tensorflow.keras.preprocessing.image import ImageDataGenerator\n",
    "from datetime import datetime\n",
    "import matplotlib.pyplot as plt\n",
    "%matplotlib inline\n",
    "\n",
    "batch_size = 10\n",
    "validation_data_dir = \"./datasetValid\"\n",
    "train_data_dir = \"./datasetTrain\"\n"
   ]
  },
  {
   "cell_type": "code",
   "execution_count": 2,
   "metadata": {},
   "outputs": [
    {
     "name": "stdout",
     "output_type": "stream",
     "text": [
      "Found 262 images belonging to 7 classes.\n",
      "Found 98 images belonging to 7 classes.\n"
     ]
    }
   ],
   "source": [
    "train_datagen = ImageDataGenerator(\n",
    "        rescale=1./255,\n",
    "        shear_range=0.2,\n",
    "        zoom_range=0.2,\n",
    "        horizontal_flip=True)\n",
    "\n",
    "test_datagen = ImageDataGenerator(rescale=1./255)\n",
    "\n",
    "train_generator = train_datagen.flow_from_directory(\n",
    "        train_data_dir,\n",
    "        target_size=(300, 300),\n",
    "        batch_size=batch_size,\n",
    "        class_mode='categorical')\n",
    "\n",
    "validation_generator = test_datagen.flow_from_directory(\n",
    "        validation_data_dir,\n",
    "        target_size=(300, 300),\n",
    "        batch_size=32,\n",
    "        class_mode='categorical')\n"
   ]
  },
  {
   "cell_type": "code",
   "execution_count": 3,
   "metadata": {},
   "outputs": [],
   "source": [
    "def createModel():\n",
    "    model = tf.keras.Sequential()\n",
    "\n",
    "    model.add(tf.keras.layers.Convolution2D(16, (3, 3), input_shape=(300, 300, 3), activation=tf.keras.activations.relu))\n",
    "    model.add(tf.keras.layers.MaxPooling2D(pool_size=(3, 3)))\n",
    "\n",
    "    model.add(tf.keras.layers.Convolution2D(32, (3, 3), activation=tf.keras.activations.relu))\n",
    "    model.add(tf.keras.layers.MaxPooling2D(pool_size=(3, 3)))\n",
    "\n",
    "    model.add(tf.keras.layers.Convolution2D(64, (3, 3), activation=tf.keras.activations.relu))\n",
    "    model.add(tf.keras.layers.MaxPooling2D(pool_size=(3, 3)))\n",
    "\n",
    "    model.add(tf.keras.layers.Dropout(0.4))\n",
    "    model.add(tf.keras.layers.Flatten())\n",
    "\n",
    "    model.add(tf.keras.layers.Dense(256, activation='relu'))\n",
    "    model.add(tf.keras.layers.Dropout(0.4))\n",
    "\n",
    "    model.add(tf.keras.layers.Dense(64, activation='relu'))\n",
    "    model.add(tf.keras.layers.Dropout(0.4))\n",
    "\n",
    "    model.add(tf.keras.layers.Dense(7, activation='softmax'))\n",
    "\n",
    "    return model\n"
   ]
  },
  {
   "cell_type": "code",
   "execution_count": 4,
   "metadata": {},
   "outputs": [
    {
     "name": "stdout",
     "output_type": "stream",
     "text": [
      "Model: \"sequential\"\n",
      "_________________________________________________________________\n",
      "Layer (type)                 Output Shape              Param #   \n",
      "=================================================================\n",
      "conv2d (Conv2D)              (None, 298, 298, 16)      448       \n",
      "_________________________________________________________________\n",
      "max_pooling2d (MaxPooling2D) (None, 99, 99, 16)        0         \n",
      "_________________________________________________________________\n",
      "conv2d_1 (Conv2D)            (None, 97, 97, 32)        4640      \n",
      "_________________________________________________________________\n",
      "max_pooling2d_1 (MaxPooling2 (None, 32, 32, 32)        0         \n",
      "_________________________________________________________________\n",
      "conv2d_2 (Conv2D)            (None, 30, 30, 64)        18496     \n",
      "_________________________________________________________________\n",
      "max_pooling2d_2 (MaxPooling2 (None, 10, 10, 64)        0         \n",
      "_________________________________________________________________\n",
      "dropout (Dropout)            (None, 10, 10, 64)        0         \n",
      "_________________________________________________________________\n",
      "flatten (Flatten)            (None, 6400)              0         \n",
      "_________________________________________________________________\n",
      "dense (Dense)                (None, 256)               1638656   \n",
      "_________________________________________________________________\n",
      "dropout_1 (Dropout)          (None, 256)               0         \n",
      "_________________________________________________________________\n",
      "dense_1 (Dense)              (None, 64)                16448     \n",
      "_________________________________________________________________\n",
      "dropout_2 (Dropout)          (None, 64)                0         \n",
      "_________________________________________________________________\n",
      "dense_2 (Dense)              (None, 7)                 455       \n",
      "=================================================================\n",
      "Total params: 1,679,143\n",
      "Trainable params: 1,679,143\n",
      "Non-trainable params: 0\n",
      "_________________________________________________________________\n",
      "None\n"
     ]
    }
   ],
   "source": [
    "model = createModel()\n",
    "\n",
    "model.compile(optimizer='adam', loss=tf.keras.losses.categorical_crossentropy,\n",
    "              metrics=['accuracy'])\n",
    "\n",
    "print(model.summary())"
   ]
  },
  {
   "cell_type": "code",
   "execution_count": 5,
   "metadata": {},
   "outputs": [
    {
     "name": "stdout",
     "output_type": "stream",
     "text": [
      "WARNING:tensorflow:sample_weight modes were coerced from\n",
      "  ...\n",
      "    to  \n",
      "  ['...']\n",
      "WARNING:tensorflow:sample_weight modes were coerced from\n",
      "  ...\n",
      "    to  \n",
      "  ['...']\n",
      "Train for 27 steps, validate for 4 steps\n",
      "Epoch 1/50\n",
      "27/27 [==============================] - 6s 237ms/step - loss: 1.9930 - accuracy: 0.1641 - val_loss: 1.9202 - val_accuracy: 0.2551\n",
      "Epoch 2/50\n",
      "27/27 [==============================] - 6s 219ms/step - loss: 1.9265 - accuracy: 0.1794 - val_loss: 1.8815 - val_accuracy: 0.3367\n",
      "Epoch 3/50\n",
      "27/27 [==============================] - 6s 224ms/step - loss: 1.7694 - accuracy: 0.3015 - val_loss: 1.5771 - val_accuracy: 0.3571\n",
      "Epoch 4/50\n",
      "27/27 [==============================] - 6s 206ms/step - loss: 1.5629 - accuracy: 0.2863 - val_loss: 1.5400 - val_accuracy: 0.3163\n",
      "Epoch 5/50\n",
      "27/27 [==============================] - 6s 209ms/step - loss: 1.5596 - accuracy: 0.3282 - val_loss: 1.4332 - val_accuracy: 0.4082\n",
      "Epoch 6/50\n",
      "27/27 [==============================] - 6s 208ms/step - loss: 1.4638 - accuracy: 0.3893 - val_loss: 1.3996 - val_accuracy: 0.5816\n",
      "Epoch 7/50\n",
      "27/27 [==============================] - 6s 209ms/step - loss: 1.3027 - accuracy: 0.4695 - val_loss: 1.1629 - val_accuracy: 0.6020\n",
      "Epoch 8/50\n",
      "27/27 [==============================] - 6s 226ms/step - loss: 1.2504 - accuracy: 0.5191 - val_loss: 1.1001 - val_accuracy: 0.6122\n",
      "Epoch 9/50\n",
      "27/27 [==============================] - 6s 217ms/step - loss: 1.0982 - accuracy: 0.6221 - val_loss: 1.0624 - val_accuracy: 0.5102\n",
      "Epoch 10/50\n",
      "27/27 [==============================] - 6s 212ms/step - loss: 1.1793 - accuracy: 0.5573 - val_loss: 1.1628 - val_accuracy: 0.5102\n",
      "Epoch 11/50\n",
      "27/27 [==============================] - 6s 214ms/step - loss: 1.0739 - accuracy: 0.6107 - val_loss: 1.0402 - val_accuracy: 0.5612\n",
      "Epoch 12/50\n",
      "27/27 [==============================] - 6s 215ms/step - loss: 0.9221 - accuracy: 0.6527 - val_loss: 1.0313 - val_accuracy: 0.5510\n",
      "Epoch 13/50\n",
      "27/27 [==============================] - 6s 205ms/step - loss: 0.9626 - accuracy: 0.6450 - val_loss: 1.1319 - val_accuracy: 0.5204\n",
      "Epoch 14/50\n",
      "27/27 [==============================] - 6s 205ms/step - loss: 0.8444 - accuracy: 0.7099 - val_loss: 1.2805 - val_accuracy: 0.5510\n",
      "Epoch 15/50\n",
      "27/27 [==============================] - 6s 205ms/step - loss: 0.8752 - accuracy: 0.6260 - val_loss: 0.9639 - val_accuracy: 0.5306\n",
      "Epoch 16/50\n",
      "27/27 [==============================] - 6s 204ms/step - loss: 0.7105 - accuracy: 0.7214 - val_loss: 1.2252 - val_accuracy: 0.5204\n",
      "Epoch 17/50\n",
      "27/27 [==============================] - 6s 210ms/step - loss: 0.8288 - accuracy: 0.6756 - val_loss: 0.9406 - val_accuracy: 0.6633\n",
      "Epoch 18/50\n",
      "27/27 [==============================] - 6s 213ms/step - loss: 0.6815 - accuracy: 0.7366 - val_loss: 0.8709 - val_accuracy: 0.6531\n",
      "Epoch 19/50\n",
      "27/27 [==============================] - 6s 206ms/step - loss: 0.6968 - accuracy: 0.7672 - val_loss: 0.9753 - val_accuracy: 0.6735\n",
      "Epoch 20/50\n",
      "27/27 [==============================] - 6s 208ms/step - loss: 0.5797 - accuracy: 0.8015 - val_loss: 1.1650 - val_accuracy: 0.6327\n",
      "Epoch 21/50\n",
      "27/27 [==============================] - 5s 203ms/step - loss: 0.5873 - accuracy: 0.7977 - val_loss: 0.8637 - val_accuracy: 0.6224\n",
      "Epoch 22/50\n",
      "27/27 [==============================] - 6s 206ms/step - loss: 0.5691 - accuracy: 0.7901 - val_loss: 1.0622 - val_accuracy: 0.6020\n",
      "Epoch 23/50\n",
      "27/27 [==============================] - 6s 219ms/step - loss: 0.5157 - accuracy: 0.8053 - val_loss: 1.1119 - val_accuracy: 0.6327\n",
      "Epoch 24/50\n",
      "27/27 [==============================] - 6s 207ms/step - loss: 0.4945 - accuracy: 0.8206 - val_loss: 0.8881 - val_accuracy: 0.6735\n",
      "Epoch 25/50\n",
      "27/27 [==============================] - 6s 211ms/step - loss: 0.5596 - accuracy: 0.8053 - val_loss: 1.0189 - val_accuracy: 0.6224\n",
      "Epoch 26/50\n",
      "27/27 [==============================] - 6s 210ms/step - loss: 0.7041 - accuracy: 0.7710 - val_loss: 0.8894 - val_accuracy: 0.6224\n",
      "Epoch 27/50\n",
      "27/27 [==============================] - 6s 224ms/step - loss: 0.4504 - accuracy: 0.8397 - val_loss: 0.8153 - val_accuracy: 0.6939\n",
      "Epoch 28/50\n",
      "27/27 [==============================] - 6s 214ms/step - loss: 0.5097 - accuracy: 0.8359 - val_loss: 0.9768 - val_accuracy: 0.6837\n",
      "Epoch 29/50\n",
      "27/27 [==============================] - 6s 214ms/step - loss: 0.4675 - accuracy: 0.8282 - val_loss: 0.8667 - val_accuracy: 0.7143\n",
      "Epoch 30/50\n",
      "27/27 [==============================] - 6s 205ms/step - loss: 0.4263 - accuracy: 0.8550 - val_loss: 1.0410 - val_accuracy: 0.6429\n",
      "Epoch 31/50\n",
      "27/27 [==============================] - 6s 212ms/step - loss: 0.3957 - accuracy: 0.8702 - val_loss: 0.9012 - val_accuracy: 0.6735\n",
      "Epoch 32/50\n",
      "27/27 [==============================] - 6s 213ms/step - loss: 0.2844 - accuracy: 0.9275 - val_loss: 0.8197 - val_accuracy: 0.6837\n",
      "Epoch 33/50\n",
      "27/27 [==============================] - 6s 206ms/step - loss: 0.3135 - accuracy: 0.9008 - val_loss: 1.5248 - val_accuracy: 0.6122\n",
      "Epoch 34/50\n",
      "27/27 [==============================] - 6s 209ms/step - loss: 0.3022 - accuracy: 0.8893 - val_loss: 0.9870 - val_accuracy: 0.7143\n",
      "Epoch 35/50\n",
      "27/27 [==============================] - 6s 205ms/step - loss: 0.3329 - accuracy: 0.8817 - val_loss: 1.1480 - val_accuracy: 0.6633\n",
      "Epoch 36/50\n",
      "27/27 [==============================] - 5s 203ms/step - loss: 0.3212 - accuracy: 0.8855 - val_loss: 0.8752 - val_accuracy: 0.7143\n",
      "Epoch 37/50\n",
      "27/27 [==============================] - 6s 216ms/step - loss: 0.2733 - accuracy: 0.8931 - val_loss: 1.2699 - val_accuracy: 0.7041\n",
      "Epoch 38/50\n",
      "27/27 [==============================] - 6s 215ms/step - loss: 0.3307 - accuracy: 0.9046 - val_loss: 0.8867 - val_accuracy: 0.6939\n",
      "Epoch 39/50\n",
      "26/27 [===========================>..] - ETA: 0s - loss: 0.3203 - accuracy: 0.8730Restoring model weights from the end of the best epoch.\n",
      "27/27 [==============================] - 6s 204ms/step - loss: 0.3127 - accuracy: 0.8779 - val_loss: 0.9431 - val_accuracy: 0.6633\n",
      "Epoch 00039: early stopping\n"
     ]
    }
   ],
   "source": [
    "es = tf.keras.callbacks.EarlyStopping(monitor='val_accuracy', mode='max', verbose=1, patience=10, restore_best_weights=True)\n",
    "\n",
    "history = model.fit(train_generator, epochs=50, validation_data=validation_generator, callbacks=[es])\n",
    "\n",
    "now = datetime.now()\n",
    "timestamp = datetime.timestamp(now)\n",
    "\n",
    "model.save(str(timestamp) + \"Adam-50Epoch\" + \".h5\")\n"
   ]
  },
  {
   "cell_type": "code",
   "execution_count": 6,
   "metadata": {},
   "outputs": [
    {
     "data": {
      "image/png": "[encoded data removed]",
      "text/plain": [
       "<Figure size 432x288 with 1 Axes>"
      ]
     },
     "metadata": {
      "needs_background": "light"
     },
     "output_type": "display_data"
    },
    {
     "data": {
      "image/png": "[encoded data removed]",
      "text/plain": [
       "<Figure size 432x288 with 1 Axes>"
      ]
     },
     "metadata": {
      "needs_background": "light"
     },
     "output_type": "display_data"
    }
   ],
   "source": [
    "\n",
    "plt.plot(history.history['accuracy'], label='accuracy')\n",
    "plt.plot(history.history['val_accuracy'], label='validation accuracy')\n",
    "\n",
    "plt.title('Entrenamiento')\n",
    "plt.xlabel('Épocas')\n",
    "plt.legend(loc=\"lower right\")\n",
    "\n",
    "plt.show()\n",
    "\n",
    "\n",
    "\n",
    "\n",
    "plt.plot(history.history['loss'], label='Loss')\n",
    "plt.plot(history.history['accuracy'], label='accuracy')\n",
    "\n",
    "plt.title('Entrenamiento')\n",
    "plt.xlabel('Épocas')\n",
    "plt.legend(loc=\"upper left\")\n",
    "\n",
    "plt.show()"
   ]
  }
 ],
 "metadata": {
  "kernelspec": {
   "display_name": "Python 3",
   "language": "python",
   "name": "python3"
  },
  "language_info": {
   "codemirror_mode": {
    "name": "ipython",
    "version": 3
   },
   "file_extension": ".py",
   "mimetype": "text/x-python",
   "name": "python",
   "nbconvert_exporter": "python",
   "pygments_lexer": "ipython3",
   "version": "3.7.6"
  }
 },
 "nbformat": 4,
 "nbformat_minor": 4
}
